{
 "cells": [
  {
   "cell_type": "markdown",
   "id": "27819ab4",
   "metadata": {},
   "source": [
    "1. In the below elements which of them are values or an expression? eg:- values can be integer or string and expressions will be mathematical operators.\n",
    "* \n",
    "'hello'\n",
    "-87.8\n",
    "- \n",
    "/ \n",
    "+\t\n",
    "6 \n"
   ]
  },
  {
   "cell_type": "raw",
   "id": "d65c8c1c",
   "metadata": {},
   "source": [
    "values = [-87.8,'hello',6]\n",
    "expression = [*,-,/,+]"
   ]
  },
  {
   "cell_type": "markdown",
   "id": "9360656b",
   "metadata": {},
   "source": [
    "2. What is the difference between string and variable?"
   ]
  },
  {
   "cell_type": "raw",
   "id": "01ab4f0f",
   "metadata": {},
   "source": [
    "Variables are used to reference data and use them further in the programe they can have different data type like string , integer,float\n",
    "list,tuples etc.\n",
    "string is datatype which carries text the text is passed enclosed in single or double quotes eg. 'Naresh_singh'\n"
   ]
  },
  {
   "cell_type": "markdown",
   "id": "cacc8403",
   "metadata": {},
   "source": [
    "3. Describe three different data types."
   ]
  },
  {
   "cell_type": "raw",
   "id": "87e69770",
   "metadata": {},
   "source": [
    "a) integer int - used to store integer values only\n",
    "b) floating float - used to store integer and floating point values\n",
    "c) boolean bool - used to store True or False \n",
    "d) complex - used for storing complex values eg. 3+5j"
   ]
  },
  {
   "cell_type": "markdown",
   "id": "73a75eae",
   "metadata": {},
   "source": [
    "4. What is an expression made up of? What do all expressions do?"
   ]
  },
  {
   "cell_type": "raw",
   "id": "e43ff556",
   "metadata": {},
   "source": [
    "expression are made of special characters like + / - * ,they are used for Mathematical computation"
   ]
  },
  {
   "cell_type": "code",
   "execution_count": null,
   "id": "33477dbe",
   "metadata": {},
   "outputs": [],
   "source": []
  }
 ],
 "metadata": {
  "kernelspec": {
   "display_name": "Python 3",
   "language": "python",
   "name": "python3"
  },
  "language_info": {
   "codemirror_mode": {
    "name": "ipython",
    "version": 3
   },
   "file_extension": ".py",
   "mimetype": "text/x-python",
   "name": "python",
   "nbconvert_exporter": "python",
   "pygments_lexer": "ipython3",
   "version": "3.8.8"
  }
 },
 "nbformat": 4,
 "nbformat_minor": 5
}
