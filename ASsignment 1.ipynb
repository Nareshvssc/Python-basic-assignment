{
 "cells": [
  {
   "cell_type": "code",
   "execution_count": null,
   "id": "b2242d99",
   "metadata": {},
   "outputs": [],
   "source": [
    "1. In the below elements which of them are values or an expression? eg:- values can be integer or string and expressions will be mathematical operators.\n",
    "* \n",
    "'hello'\n",
    "-87.8\n",
    "- \n",
    "/ \n",
    "+\t\n",
    "6 \n"
   ]
  },
  {
   "cell_type": "code",
   "execution_count": null,
   "id": "d070a340",
   "metadata": {},
   "outputs": [],
   "source": [
    "values = [-87.8,'hello',6]\n",
    "expression = [*,-,/,+]"
   ]
  },
  {
   "cell_type": "code",
   "execution_count": null,
   "id": "dd65c3d6",
   "metadata": {},
   "outputs": [],
   "source": [
    "2. What is the difference between string and variable?"
   ]
  },
  {
   "cell_type": "code",
   "execution_count": null,
   "id": "2117cc16",
   "metadata": {},
   "outputs": [],
   "source": [
    "Variables are used to reference data and use them further in the programe they can have different data type like string , integer,float\n",
    "list,tuples etc.\n",
    "string is datatype which carries text the text is passed enclosed in single or double quotes eg. 'Naresh_singh'\n"
   ]
  },
  {
   "cell_type": "code",
   "execution_count": null,
   "id": "e4a51bc4",
   "metadata": {},
   "outputs": [],
   "source": [
    "3. Describe three different data types."
   ]
  },
  {
   "cell_type": "code",
   "execution_count": null,
   "id": "9f99a3d6",
   "metadata": {},
   "outputs": [],
   "source": [
    "a) integer int - used to store integer values only\n",
    "b) floating float - used to store integer and floating point values\n",
    "c) boolean bool - used to store True or False \n",
    "d) complex - used for storing complex values eg. 3+5j"
   ]
  },
  {
   "cell_type": "code",
   "execution_count": null,
   "id": "3d56e137",
   "metadata": {},
   "outputs": [],
   "source": [
    "4. What is an expression made up of? What do all expressions do?"
   ]
  },
  {
   "cell_type": "code",
   "execution_count": null,
   "id": "ff066f4c",
   "metadata": {},
   "outputs": [],
   "source": [
    "expression are made of special characters like + / - * ,they are used for Mathematical computation"
   ]
  },
  {
   "cell_type": "code",
   "execution_count": null,
   "id": "33477dbe",
   "metadata": {},
   "outputs": [],
   "source": [
    "5. This assignment statements, like spam = 10. What is the difference between an expression and a statement?"
   ]
  },
  {
   "cell_type": "code",
   "execution_count": null,
   "id": "0937c386",
   "metadata": {},
   "outputs": [],
   "source": [
    "expression evaluate to some numerical value through mathematical computation while the statement spam=10 is an assignment it assigns the\n",
    "value equal to 10"
   ]
  },
  {
   "cell_type": "code",
   "execution_count": null,
   "id": "aea68d28",
   "metadata": {},
   "outputs": [],
   "source": [
    "6. After running the following code, what does the variable bacon contain?\n",
    "bacon = 22\n",
    "bacon + 1\n"
   ]
  },
  {
   "cell_type": "code",
   "execution_count": null,
   "id": "fc6d6c63",
   "metadata": {},
   "outputs": [],
   "source": [
    "22"
   ]
  },
  {
   "cell_type": "code",
   "execution_count": null,
   "id": "d26f6267",
   "metadata": {},
   "outputs": [],
   "source": [
    "7. What should the values of the following two terms be?\n",
    "'spam' + 'spamspam'\n",
    "'spam' * 3\n"
   ]
  },
  {
   "cell_type": "code",
   "execution_count": null,
   "id": "6f13add2",
   "metadata": {},
   "outputs": [],
   "source": [
    "above two statements is a form of concatenation through different ways\n",
    "first output is spamspamspam\n",
    "second line output is spamspamspam "
   ]
  },
  {
   "cell_type": "code",
   "execution_count": null,
   "id": "007c03c0",
   "metadata": {},
   "outputs": [],
   "source": [
    "8. Why is eggs a valid variable name while 100 is invalid?"
   ]
  },
  {
   "cell_type": "code",
   "execution_count": null,
   "id": "ec4feb07",
   "metadata": {},
   "outputs": [],
   "source": [
    "variable name cannot be integer because it can cause ambiguity while passing an integer value that which is variable and which is its value"
   ]
  }
 ],
 "metadata": {
  "kernelspec": {
   "display_name": "Python 3",
   "language": "python",
   "name": "python3"
  },
  "language_info": {
   "codemirror_mode": {
    "name": "ipython",
    "version": 3
   },
   "file_extension": ".py",
   "mimetype": "text/x-python",
   "name": "python",
   "nbconvert_exporter": "python",
   "pygments_lexer": "ipython3",
   "version": "3.8.8"
  }
 },
 "nbformat": 4,
 "nbformat_minor": 5
}
